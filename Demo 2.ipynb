{
 "metadata": {
  "name": "",
  "signature": "sha256:a39214573c6314a601c3faaabe58c09d7d04660461020b67fe3966c47f7fd6b0"
 },
 "nbformat": 3,
 "nbformat_minor": 0,
 "worksheets": [
  {
   "cells": [
    {
     "cell_type": "heading",
     "level": 1,
     "metadata": {},
     "source": [
      "Create environment variables"
     ]
    },
    {
     "cell_type": "code",
     "collapsed": false,
     "input": [
      "import os\n",
      "import datetime\n",
      "from time import strftime\n",
      "import time\n",
      "import simplejson\n",
      "\n",
      "os.environ['OS_AUTH_TOKEN'] ='82510970543135'\n",
      "os.environ['OS_NO_CLIENT_AUTH'] = '1'\n",
      "os.environ['MON_API_URL'] = 'http://192.168.10.4:8080/v2.0/'"
     ],
     "language": "python",
     "metadata": {},
     "outputs": []
    },
    {
     "cell_type": "heading",
     "level": 1,
     "metadata": {},
     "source": [
      "List measurements for the last four minutes\n"
     ]
    },
    {
     "cell_type": "code",
     "collapsed": false,
     "input": [
      "date = datetime.datetime.now() - datetime.timedelta(minutes=4)\n",
      "iso_date = date.isoformat(sep='T')\n",
      "!mon measurement-list disk_usage --dimensions hostname=utility,device=/dev/sda1 $iso_date"
     ],
     "language": "python",
     "metadata": {},
     "outputs": []
    },
    {
     "cell_type": "heading",
     "level": 1,
     "metadata": {},
     "source": [
      "List notification methods"
     ]
    },
    {
     "cell_type": "code",
     "collapsed": false,
     "input": [
      "!mon notification-list"
     ],
     "language": "python",
     "metadata": {},
     "outputs": []
    },
    {
     "cell_type": "heading",
     "level": 1,
     "metadata": {},
     "source": [
      "Create notification method"
     ]
    },
    {
     "cell_type": "code",
     "collapsed": false,
     "input": [
      "!mon notification-create pagermonkey EMAIL pager@a7n.net\n",
      "!mon notification-list"
     ],
     "language": "python",
     "metadata": {},
     "outputs": []
    },
    {
     "cell_type": "heading",
     "level": 1,
     "metadata": {},
     "source": [
      "List alarms"
     ]
    },
    {
     "cell_type": "code",
     "collapsed": false,
     "input": [
      "!mon alarm-list"
     ],
     "language": "python",
     "metadata": {},
     "outputs": []
    },
    {
     "cell_type": "heading",
     "level": 1,
     "metadata": {},
     "source": [
      "Create an alarm"
     ]
    },
    {
     "cell_type": "code",
     "collapsed": false,
     "input": [
      "notification_list = !mon -j notification-list\n",
      "notification_id = simplejson.loads(''.join(notification_list))[0]['id']\n",
      "!mon alarm-create low_disk 'disk_usage>90' --description 'Disk usage over 90%' --alarm-actions $notification_id\n",
      "!mon alarm-list"
     ],
     "language": "python",
     "metadata": {},
     "outputs": []
    },
    {
     "cell_type": "heading",
     "level": 1,
     "metadata": {},
     "source": [
      "List measurements"
     ]
    },
    {
     "cell_type": "code",
     "collapsed": false,
     "input": [
      "!mon measurement-list disk_usage --dimensions hostname=utility,device=/dev/sda1 $iso_date"
     ],
     "language": "python",
     "metadata": {},
     "outputs": []
    },
    {
     "cell_type": "heading",
     "level": 1,
     "metadata": {},
     "source": [
      "List alarms"
     ]
    },
    {
     "cell_type": "code",
     "collapsed": false,
     "input": [
      "!mon alarm-list"
     ],
     "language": "python",
     "metadata": {},
     "outputs": []
    },
    {
     "cell_type": "heading",
     "level": 1,
     "metadata": {},
     "source": [
      "Delete alarm and notification method"
     ]
    },
    {
     "cell_type": "code",
     "collapsed": false,
     "input": [
      "alarms = !mon -j alarm-list\n",
      "alarm_id = simplejson.loads(''.join(alarms))[0]['id']\n",
      "!mon alarm-delete $alarm_id\n",
      "\n",
      "notification_list = !mon -j notification-list\n",
      "notification_id = simplejson.loads(''.join(notification_list))[0]['id']\n",
      "!mon notification-delete $notification_id\n"
     ],
     "language": "python",
     "metadata": {},
     "outputs": []
    },
    {
     "cell_type": "code",
     "collapsed": false,
     "input": [],
     "language": "python",
     "metadata": {},
     "outputs": []
    }
   ],
   "metadata": {}
  }
 ]
}